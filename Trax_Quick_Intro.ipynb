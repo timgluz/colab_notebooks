{
  "nbformat": 4,
  "nbformat_minor": 0,
  "metadata": {
    "colab": {
      "name": "Trax Quick Intro",
      "provenance": [],
      "private_outputs": true,
      "collapsed_sections": [],
      "include_colab_link": true
    },
    "kernelspec": {
      "display_name": "Python 3",
      "name": "python3"
    },
    "accelerator": "GPU"
  },
  "cells": [
    {
      "cell_type": "markdown",
      "metadata": {
        "id": "view-in-github",
        "colab_type": "text"
      },
      "source": [
        "<a href=\"https://colab.research.google.com/github/timgluz/colab_notebooks/blob/master/Trax_Quick_Intro.ipynb\" target=\"_parent\"><img src=\"https://colab.research.google.com/assets/colab-badge.svg\" alt=\"Open In Colab\"/></a>"
      ]
    },
    {
      "cell_type": "markdown",
      "metadata": {
        "colab_type": "text",
        "id": "7yuytuIllsv1"
      },
      "source": [
        "# Trax Quick Intro\n",
        "\n",
        "[Trax](https://trax-ml.readthedocs.io/en/latest/) is an end-to-end library for deep learning that focuses on clear code and speed. It is actively used and maintained in the [Google Brain team](https://research.google.com/teams/brain/). This notebook ([run it in colab](https://colab.research.google.com/github/google/trax/blob/master/trax/intro.ipynb)) shows how to use Trax and where you can find more information.\n",
        "\n",
        "  1. **Run a pre-trained Transformer**: create a translator in a few lines of code\n",
        "  1. **Features and resources**: [API docs](https://trax-ml.readthedocs.io/en/latest/), where to [talk to us](https://gitter.im/trax-ml/community), how to [open an issue](https://github.com/google/trax/issues) and more\n",
        "  1. **Walkthrough**: how Trax works, how to make new models and train on your own data\n",
        "\n",
        "We welcome **contributions** to Trax! We welcome PRs with code for new models and layers as well as improvements to our code and documentation. We especially love **notebooks** that explain how models work and show how to use them to solve problems!\n",
        "\n",
        "\n"
      ]
    },
    {
      "cell_type": "markdown",
      "metadata": {
        "colab_type": "text",
        "id": "BIl27504La0G"
      },
      "source": [
        "**General Setup**\n",
        "\n",
        "Execute the following few cells (once) before running any of the code samples."
      ]
    },
    {
      "cell_type": "code",
      "metadata": {
        "cellView": "both",
        "colab_type": "code",
        "id": "oILRLCWN_16u",
        "colab": {}
      },
      "source": [
        "#@title\n",
        "# Copyright 2020 Google LLC.\n",
        "\n",
        "# Licensed under the Apache License, Version 2.0 (the \"License\");\n",
        "# you may not use this file except in compliance with the License.\n",
        "# You may obtain a copy of the License at\n",
        "\n",
        "# https://www.apache.org/licenses/LICENSE-2.0\n",
        "\n",
        "# Unless required by applicable law or agreed to in writing, software\n",
        "# distributed under the License is distributed on an \"AS IS\" BASIS,\n",
        "# WITHOUT WARRANTIES OR CONDITIONS OF ANY KIND, either express or implied.\n",
        "# See the License for the specific language governing permissions and\n",
        "# limitations under the License.\n",
        "\n",
        "import os\n",
        "import numpy as np\n",
        "\n",
        "\n"
      ],
      "execution_count": null,
      "outputs": []
    },
    {
      "cell_type": "code",
      "metadata": {
        "cellView": "both",
        "colab_type": "code",
        "id": "vlGjGoGMTt-D",
        "colab": {}
      },
      "source": [
        "#@title\n",
        "# Import Trax\n",
        "\n",
        "!pip install -q -U trax\n",
        "import trax"
      ],
      "execution_count": null,
      "outputs": []
    },
    {
      "cell_type": "markdown",
      "metadata": {
        "colab_type": "text",
        "id": "-LQ89rFFsEdk"
      },
      "source": [
        "## 1. Run a pre-trained Transformer\n",
        "\n",
        "Here is how you create an Engligh-German translator in a few lines of code:\n",
        "* create a Transformer model in Trax with [trax.models.Transformer](https://trax-ml.readthedocs.io/en/latest/trax.models.html#trax.models.transformer.Transformer)\n",
        "* initialize it from a file with pre-trained weights with [model.init_from_file](https://trax-ml.readthedocs.io/en/latest/trax.layers.html#trax.layers.base.Layer.init_from_file)\n",
        "* tokenize your input sentence to input into the model with [trax.data.tokenize](https://trax-ml.readthedocs.io/en/latest/trax.data.html#trax.data.tf_inputs.tokenize)\n",
        "* decode from the Transformer with [trax.supervised.decoding.autoregressive_sample](https://trax-ml.readthedocs.io/en/latest/trax.supervised.html#trax.supervised.decoding.autoregressive_sample)\n",
        "* de-tokenize the decoded result to get the translation with [trax.data.detokenize](https://trax-ml.readthedocs.io/en/latest/trax.data.html#trax.data.tf_inputs.detokenize)\n"
      ]
    },
    {
      "cell_type": "code",
      "metadata": {
        "colab_type": "code",
        "id": "djTiSLcaNFGa",
        "colab": {}
      },
      "source": [
        "\n",
        "# Create a Transformer model.\n",
        "# Pre-trained model config in gs://trax-ml/models/translation/ende_wmt32k.gin\n",
        "model = trax.models.Transformer(\n",
        "    input_vocab_size=33300,\n",
        "    d_model=512, d_ff=2048,\n",
        "    n_heads=8, n_encoder_layers=6, n_decoder_layers=6,\n",
        "    max_len=2048, mode='predict')\n",
        "\n",
        "# Initialize using pre-trained weights.\n",
        "model.init_from_file('gs://trax-ml/models/translation/ende_wmt32k.pkl.gz',\n",
        "                     weights_only=True)\n",
        "\n",
        "# Tokenize a sentence.\n",
        "sentence = 'It is nice to learn new things today!'\n",
        "tokenized = list(trax.data.tokenize(iter([sentence]),  # Operates on streams.\n",
        "                                    vocab_dir='gs://trax-ml/vocabs/',\n",
        "                                    vocab_file='ende_32k.subword'))[0]\n",
        "print(f\"tokenized string: {tokenized}\")\n",
        "# Decode from the Transformer.\n",
        "tokenized = tokenized[None, :]  # Add batch dimension.\n",
        "tokenized_translation = trax.supervised.decoding.autoregressive_sample(\n",
        "    model, tokenized, temperature=0.0)  # Higher temperature: more diverse results.\n",
        "\n",
        "# De-tokenize,\n",
        "tokenized_translation = tokenized_translation[0][:-1]  # Remove batch and EOS.\n",
        "translation = trax.data.detokenize(tokenized_translation,\n",
        "                                   vocab_dir='gs://trax-ml/vocabs/',\n",
        "                                   vocab_file='ende_32k.subword')\n",
        "print(translation)"
      ],
      "execution_count": null,
      "outputs": []
    },
    {
      "cell_type": "markdown",
      "metadata": {
        "colab_type": "text",
        "id": "QMo3OnsGgLNK"
      },
      "source": [
        "## 2. Features and resources\n",
        "\n",
        "Trax includes basic models (like [ResNet](https://github.com/google/trax/blob/master/trax/models/resnet.py#L70), [LSTM](https://github.com/google/trax/blob/master/trax/models/rnn.py#L100), [Transformer](https://github.com/google/trax/blob/master/trax/models/transformer.py#L189) and RL algorithms\n",
        "(like [REINFORCE](https://github.com/google/trax/blob/master/trax/rl/training.py#L244), [A2C](https://github.com/google/trax/blob/master/trax/rl/actor_critic_joint.py#L458), [PPO](https://github.com/google/trax/blob/master/trax/rl/actor_critic_joint.py#L209)). It is also actively used for research and includes\n",
        "new models like the [Reformer](https://github.com/google/trax/tree/master/trax/models/reformer) and new RL algorithms like [AWR](https://arxiv.org/abs/1910.00177). Trax has bindings to a large number of deep learning datasets, including\n",
        "[Tensor2Tensor](https://github.com/tensorflow/tensor2tensor) and [TensorFlow datasets](https://www.tensorflow.org/datasets/catalog/overview).\n",
        "\n",
        "\n",
        "You can use Trax either as a library from your own python scripts and notebooks\n",
        "or as a binary from the shell, which can be more convenient for training large models.\n",
        "It runs without any changes on CPUs, GPUs and TPUs.\n",
        "\n",
        "* [API docs](https://trax-ml.readthedocs.io/en/latest/)\n",
        "* [chat with us](https://gitter.im/trax-ml/community)\n",
        "* [open an issue](https://github.com/google/trax/issues)\n",
        "* subscribe to [trax-discuss](https://groups.google.com/u/1/g/trax-discuss) for news\n",
        "\n"
      ]
    },
    {
      "cell_type": "markdown",
      "metadata": {
        "colab_type": "text",
        "id": "8wgfJyhdihfR"
      },
      "source": [
        "## 3. Walkthrough\n",
        "\n",
        "You can learn here how Trax works, how to create new models and how to train them on your own data."
      ]
    },
    {
      "cell_type": "markdown",
      "metadata": {
        "colab_type": "text",
        "id": "yM12hgQnp4qo"
      },
      "source": [
        "### Tensors and Fast Math\n",
        "\n",
        "The basic units flowing through Trax models are *tensors* - multi-dimensional arrays, sometimes also known as numpy arrays, due to the most widely used package for tensor operations -- `numpy`. You should take a look at the [numpy guide](https://numpy.org/doc/stable/user/quickstart.html) if you don't know how to operate on tensors: Trax also uses the numpy API for that.\n",
        "\n",
        "In Trax we want numpy operations to run very fast, making use of GPUs and TPUs to accelerate them. We also want to automatically compute gradients of functions on tensors. This is done in the `trax.fastmath` package thanks to its backends -- [JAX](https://github.com/google/jax) and [TensorFlow numpy](https://tensorflow.org)."
      ]
    },
    {
      "cell_type": "code",
      "metadata": {
        "colab_type": "code",
        "id": "kSauPt0NUl_o",
        "colab": {}
      },
      "source": [
        "from trax.fastmath import numpy as fastnp\n",
        "trax.fastmath.use_backend('jax')  # Can be 'jax' or 'tensorflow-numpy'.\n",
        "\n",
        "matrix  = fastnp.array([[1, 2, 3], [4, 5, 6], [7, 8, 9]])\n",
        "print(f'matrix = \\n{matrix}')\n",
        "vector = fastnp.ones(3)\n",
        "print(f'vector = {vector}')\n",
        "product = fastnp.dot(vector, matrix)\n",
        "print(f'product = {product}')\n",
        "tanh = fastnp.tanh(product)\n",
        "print(f'tanh(product) = {tanh}')"
      ],
      "execution_count": null,
      "outputs": []
    },
    {
      "cell_type": "markdown",
      "metadata": {
        "colab_type": "text",
        "id": "snLYtU6OsKU2"
      },
      "source": [
        "Gradients can be calculated using `trax.fastmath.grad`."
      ]
    },
    {
      "cell_type": "code",
      "metadata": {
        "colab_type": "code",
        "id": "cqjYoxPEu8PG",
        "colab": {}
      },
      "source": [
        "def f(x):\n",
        "  return 2.0 * x * x\n",
        "\n",
        "grad_f = trax.fastmath.grad(f)\n",
        "\n",
        "print(f'grad(2x^2) at 1 = {grad_f(1.0)}')"
      ],
      "execution_count": null,
      "outputs": []
    },
    {
      "cell_type": "markdown",
      "metadata": {
        "colab_type": "text",
        "id": "p-wtgiWNseWw"
      },
      "source": [
        "### Layers\n",
        "\n",
        "Layers are basic building blocks of Trax models. You will learn all about them in the [layers intro](https://trax-ml.readthedocs.io/en/latest/notebooks/layers_intro.html) but for now, just take a look at the implementation of one core Trax layer, `Embedding`:\n",
        "\n",
        "```\n",
        "class Embedding(base.Layer):\n",
        "  \"\"\"Trainable layer that maps discrete tokens/ids to vectors.\"\"\"\n",
        "\n",
        "  def __init__(self,\n",
        "               vocab_size,\n",
        "               d_feature,\n",
        "               kernel_initializer=init.RandomNormalInitializer(1.0)):\n",
        "    \"\"\"Returns an embedding layer with given vocabulary size and vector size.\n",
        "\n",
        "    Args:\n",
        "      vocab_size: Size of the input vocabulary. The layer will assign a unique\n",
        "          vector to each id in `range(vocab_size)`.\n",
        "      d_feature: Dimensionality/depth of the output vectors.\n",
        "      kernel_initializer: Function that creates (random) initial vectors for\n",
        "          the embedding.\n",
        "    \"\"\"\n",
        "    super().__init__(name=f'Embedding_{vocab_size}_{d_feature}')\n",
        "    self._d_feature = d_feature  # feature dimensionality\n",
        "    self._vocab_size = vocab_size\n",
        "    self._kernel_initializer = kernel_initializer\n",
        "\n",
        "  def forward(self, x):\n",
        "    \"\"\"Returns embedding vectors corresponding to input token id's.\n",
        "\n",
        "    Args:\n",
        "      x: Tensor of token id's.\n",
        "\n",
        "    Returns:\n",
        "      Tensor of embedding vectors.\n",
        "    \"\"\"\n",
        "    return jnp.take(self.weights, x, axis=0)\n",
        "\n",
        "  def init_weights_and_state(self, input_signature):\n",
        "    \"\"\"Returns tensor of newly initialized embedding vectors.\"\"\"\n",
        "    del input_signature\n",
        "    shape_w = (self._vocab_size, self._d_feature)\n",
        "    w = self._kernel_initializer(shape_w, self.rng)\n",
        "    self.weights = w\n",
        "```\n",
        "\n",
        "Layers with trainable weights like `Embedding` need to be initialized with the signature (shape and dtype) of the input, and then can be run by calling them.\n"
      ]
    },
    {
      "cell_type": "code",
      "metadata": {
        "colab_type": "code",
        "id": "4MLSQsIiw9Aw",
        "colab": {}
      },
      "source": [
        "import numpy as np  \n",
        "from trax import layers as tl\n",
        "\n",
        "# Create an input tensor x.\n",
        "x = np.arange(15)\n",
        "print(f'x = {x}')\n",
        "\n",
        "# Create the embedding layer.\n",
        "embedding = tl.Embedding(vocab_size=20, d_feature=32)\n",
        "embedding.init(trax.shapes.signature(x))\n",
        "\n",
        "# Run the layer -- y = embedding(x).\n",
        "y = embedding(x)\n",
        "print(f'shape of y = {y.shape}')"
      ],
      "execution_count": null,
      "outputs": []
    },
    {
      "cell_type": "markdown",
      "metadata": {
        "colab_type": "text",
        "id": "MgCPl9ZOyCJw"
      },
      "source": [
        "### Models\n",
        "\n",
        "Models in Trax are built from layers most often using the `Serial` and `Branch` combinators. You can read more about those combinators in the [layers intro](https://trax-ml.readthedocs.io/en/latest/notebooks/layers_intro.html) and\n",
        "see the code for many models in `trax/models/`, e.g., this is how the [Transformer Language Model](https://github.com/google/trax/blob/master/trax/models/transformer.py#L167) is implemented. Below is an example of how to build a sentiment classification model."
      ]
    },
    {
      "cell_type": "code",
      "metadata": {
        "colab_type": "code",
        "id": "WoSz5plIyXOU",
        "colab": {}
      },
      "source": [
        "model = tl.Serial(\n",
        "    tl.Embedding(vocab_size=8192, d_feature=256),\n",
        "    tl.Mean(axis=1),  # Average on axis 1 (length of sentence).\n",
        "    tl.Dense(2),      # Classify 2 classes.\n",
        "    tl.LogSoftmax()   # Produce log-probabilities.\n",
        ")\n",
        "\n",
        "# You can print model structure.\n",
        "print(model)"
      ],
      "execution_count": null,
      "outputs": []
    },
    {
      "cell_type": "markdown",
      "metadata": {
        "colab_type": "text",
        "id": "FcnIjFLD0Ju1"
      },
      "source": [
        "### Data\n",
        "\n",
        "To train your model, you need data. In Trax, data streams are represented as python iterators, so you can call `next(data_stream)` and get a tuple, e.g., `(inputs, targets)`. Trax allows you to use [TensorFlow Datasets](https://www.tensorflow.org/datasets) easily and you can also get an iterator from your own text file using the standard `open('my_file.txt')`."
      ]
    },
    {
      "cell_type": "code",
      "metadata": {
        "colab_type": "code",
        "id": "pKITF1jR0_Of",
        "colab": {}
      },
      "source": [
        "train_stream = trax.data.TFDS('imdb_reviews', keys=('text', 'label'), train=True)()\n",
        "eval_stream = trax.data.TFDS('imdb_reviews', keys=('text', 'label'), train=False)()\n",
        "print(next(train_stream))  # See one example."
      ],
      "execution_count": null,
      "outputs": []
    },
    {
      "cell_type": "markdown",
      "metadata": {
        "colab_type": "text",
        "id": "fRGj4Skm1kL4"
      },
      "source": [
        "Using the `trax.data` module you can create input processing pipelines, e.g., to tokenize and shuffle your data. You create data pipelines using `trax.data.Serial` and they are functions that you apply to streams to create processed streams."
      ]
    },
    {
      "cell_type": "code",
      "metadata": {
        "colab_type": "code",
        "id": "AV5wrgjZ10yU",
        "colab": {}
      },
      "source": [
        "data_pipeline = trax.data.Serial(\n",
        "    trax.data.Tokenize(vocab_file='en_8k.subword', keys=[0]),\n",
        "    trax.data.Shuffle(),\n",
        "    trax.data.FilterByLength(max_length=2048, length_keys=[0]),\n",
        "    trax.data.BucketByLength(boundaries=[  32, 128, 512, 2048],\n",
        "                             batch_sizes=[256,  64,  16,    4, 1],\n",
        "                             length_keys=[0]),\n",
        "    trax.data.AddLossWeights()\n",
        "  )\n",
        "train_batches_stream = data_pipeline(train_stream)\n",
        "eval_batches_stream = data_pipeline(eval_stream)\n",
        "example_batch = next(train_batches_stream)\n",
        "print(f'shapes = {[x.shape for x in example_batch]}')  # Check the shapes."
      ],
      "execution_count": null,
      "outputs": []
    },
    {
      "cell_type": "markdown",
      "metadata": {
        "colab_type": "text",
        "id": "l25krioP2twf"
      },
      "source": [
        "### Supervised training\n",
        "\n",
        "When you have the model and the data, use `trax.supervised.training` to define training and eval tasks and create a training loop. The Trax training loop optimizes training and will create TensorBoard logs and model checkpoints for you."
      ]
    },
    {
      "cell_type": "code",
      "metadata": {
        "colab_type": "code",
        "id": "d6bIKUO-3Cw8",
        "colab": {}
      },
      "source": [
        "from trax.supervised import training\n",
        "\n",
        "# Training task.\n",
        "train_task = training.TrainTask(\n",
        "    labeled_data=train_batches_stream,\n",
        "    loss_layer=tl.CrossEntropyLoss(),\n",
        "    optimizer=trax.optimizers.Adam(0.01),\n",
        "    n_steps_per_checkpoint=500,\n",
        ")\n",
        "\n",
        "# Evaluaton task.\n",
        "eval_task = training.EvalTask(\n",
        "    labeled_data=eval_batches_stream,\n",
        "    metrics=[tl.CrossEntropyLoss(), tl.Accuracy()],\n",
        "    n_eval_batches=20  # For less variance in eval numbers.\n",
        ")\n",
        "\n",
        "# Training loop saves checkpoints to output_dir.\n",
        "output_dir = os.path.expanduser('~/output_dir/')\n",
        "!rm -rf {output_dir}\n",
        "training_loop = training.Loop(model,\n",
        "                              train_task,\n",
        "                              eval_tasks=[eval_task],\n",
        "                              output_dir=output_dir)\n",
        "\n",
        "# Run 2000 steps (batches).\n",
        "training_loop.run(2000)"
      ],
      "execution_count": null,
      "outputs": []
    },
    {
      "cell_type": "markdown",
      "metadata": {
        "colab_type": "text",
        "id": "-aCkIu3x686C"
      },
      "source": [
        "After training the model, run it like any layer to get results."
      ]
    },
    {
      "cell_type": "code",
      "metadata": {
        "colab_type": "code",
        "id": "yuPu37Lp7GST",
        "colab": {}
      },
      "source": [
        "example_input = next(eval_batches_stream)[0][0]\n",
        "example_input_str = trax.data.detokenize(example_input, vocab_file='en_8k.subword')\n",
        "print(f'example input_str: {example_input_str}')\n",
        "sentiment_log_probs = model(example_input[None, :])  # Add batch dimension.\n",
        "print(f'Model returned sentiment probabilities: {np.exp(sentiment_log_probs)}')"
      ],
      "execution_count": null,
      "outputs": []
    }
  ]
}