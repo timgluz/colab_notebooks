{
  "nbformat": 4,
  "nbformat_minor": 0,
  "metadata": {
    "colab": {
      "name": "SpacyCourse_chapter3_pipelines.ipynb",
      "provenance": [],
      "private_outputs": true,
      "toc_visible": true,
      "authorship_tag": "ABX9TyPE51f70bbf/ufYy1bzTtzC",
      "include_colab_link": true
    },
    "kernelspec": {
      "name": "python3",
      "display_name": "Python 3"
    }
  },
  "cells": [
    {
      "cell_type": "markdown",
      "metadata": {
        "id": "view-in-github",
        "colab_type": "text"
      },
      "source": [
        "<a href=\"https://colab.research.google.com/github/timgluz/colab_notebooks/blob/master/SpacyCourse_chapter3_pipelines.ipynb\" target=\"_parent\"><img src=\"https://colab.research.google.com/assets/colab-badge.svg\" alt=\"Open In Colab\"/></a>"
      ]
    },
    {
      "cell_type": "markdown",
      "metadata": {
        "id": "Wq8EpSjX65wM",
        "colab_type": "text"
      },
      "source": [
        "# Processing pipelines\n",
        "\n",
        "processing pipelines: a series of functions applied to a doc to add attributes like part-of-speech tags, dependency labels or named entities.\n",
        "\n",
        "\n",
        "![alt text](https://imgur.com/2JAJevyl.png)\n",
        "\n",
        "All models you can load into spaCy include several files and a **meta.json**.\n",
        "\n",
        "The meta defines things like the language and pipeline. This tells spaCy which components to instantiate.\n",
        "\n",
        "The built-in components that make predictions also need binary data. The data is included in the model package and loaded into the component when you load the model.\n",
        "\n",
        "\n"
      ]
    },
    {
      "cell_type": "code",
      "metadata": {
        "id": "48f7tJms7_Qo",
        "colab_type": "code",
        "colab": {}
      },
      "source": [
        "# install the latest version of Spacy\n",
        "!pip install spacy"
      ],
      "execution_count": null,
      "outputs": []
    },
    {
      "cell_type": "code",
      "metadata": {
        "id": "5hRZ8Xvj_Dec",
        "colab_type": "code",
        "colab": {}
      },
      "source": [
        "# download medium size model package\n",
        "#!python -m spacy download en_core_web_md\n",
        "\n",
        "!pip install https://github.com/explosion/spacy-models/releases/download/en_core_web_sm-2.2.0/en_core_web_sm-2.2.0.tar.gz"
      ],
      "execution_count": null,
      "outputs": []
    },
    {
      "cell_type": "code",
      "metadata": {
        "id": "bQQdYpET6z2E",
        "colab_type": "code",
        "colab": {}
      },
      "source": [
        "import spacy\n",
        "print(f\"Spacy version: {spacy.__version__}\")\n",
        "\n",
        "nlp = spacy.load(\"en_core_web_md\")\n",
        "doc = nlp(\"This is a sentence\")"
      ],
      "execution_count": null,
      "outputs": []
    },
    {
      "cell_type": "markdown",
      "metadata": {
        "id": "UuATqwPF8Xv0",
        "colab_type": "text"
      },
      "source": [
        "### Pipeline attributes\n",
        "\n",
        "To see the names of the pipeline components present in the current nlp object, you can use the nlp.pipe_names attribute.\n",
        "\n",
        "For a list of component name and component function tuples, you can use the nlp.pipeline attribute.\n",
        "\n",
        "The component functions are the functions applied to the doc to process it and set attributes – for example, part-of-speech tags or named entities.\n",
        "\n",
        "\n",
        "`nlp.pipenames` : list of pipeline component names\n"
      ]
    },
    {
      "cell_type": "code",
      "metadata": {
        "id": "JeeoPKae8mvM",
        "colab_type": "code",
        "colab": {}
      },
      "source": [
        "print(nlp.pipe_names)"
      ],
      "execution_count": null,
      "outputs": []
    },
    {
      "cell_type": "markdown",
      "metadata": {
        "id": "BQhxAbXCGWyQ",
        "colab_type": "text"
      },
      "source": [
        "### Custom pipeline components\n",
        "\n",
        "Custom pipeline components let you add your own function to the spaCy pipeline that is executed when you call the `nlp` object on a text – for example, to modify the doc and add more data to it.\n",
        "\n",
        "Custom components are executed automatically when you call the nlp object on a text.\n",
        "\n",
        "They're especially useful for adding your own custom metadata to documents and tokens.\n",
        "\n",
        "You can also use them to update built-in attributes, like the named entity spans.\n",
        "\n",
        "To specify where to add the component in the pipeline, you can use the following keyword arguments:\n",
        "\n",
        "* Setting `last` to True will add the component last in the pipeline. This is the default behavior.\n",
        "\n",
        "* Setting `first` to True will add the component first in the pipeline, right after the tokenizer.\n",
        "\n",
        "* The `before` and `after` arguments let you define the name of an existing component to add the new component before or after. For example, `before=\"ner\"` will add it before the named entity recognizer."
      ]
    },
    {
      "cell_type": "code",
      "metadata": {
        "id": "NI0JpV19Hnhc",
        "colab_type": "code",
        "colab": {}
      },
      "source": [
        "# function that takes a doc, modifies it and returns it\n",
        "def custom_component(doc):\n",
        "    # Do something to the doc here\n",
        "    print(f\"Doc length: {len(doc)}\")\n",
        "\n",
        "    return doc\n",
        "\n",
        "# adding the custom_component to the pipe_line\n",
        "# comment out if running it first time\n",
        "#nlp.add_pipe(custom_component, first = True)\n",
        "\n",
        "# print the pipeline component names\n",
        "print(\"Pipeline:\", nlp.pipe_names)\n",
        "\n",
        "# process a text\n",
        "doc = nlp(\"Hello world!\")"
      ],
      "execution_count": null,
      "outputs": []
    },
    {
      "cell_type": "markdown",
      "metadata": {
        "id": "t7tXWwj4LjCU",
        "colab_type": "text"
      },
      "source": [
        "#### Complex components example\n"
      ]
    },
    {
      "cell_type": "code",
      "metadata": {
        "id": "lD0_fCdzLmZ8",
        "colab_type": "code",
        "colab": {}
      },
      "source": [
        "import spacy\n",
        "from spacy.matcher import PhraseMatcher\n",
        "from spacy.tokens import Span\n",
        "\n",
        "nlp = spacy.load(\"en_core_web_sm\")\n",
        "animals = [\"Golden Retriever\", \"cat\", \"turtle\", \"Rattus norvegicus\"]\n",
        "animal_patterns = list(nlp.pipe(animals))\n",
        "print(\"animal_patterns:\", animal_patterns)\n",
        "matcher = PhraseMatcher(nlp.vocab)\n",
        "matcher.add(\"ANIMAL\", None, *animal_patterns)\n",
        "\n",
        "# Define the custom component\n",
        "def animal_component(doc):\n",
        "    # Apply the matcher to the doc\n",
        "    matches = matcher(doc)\n",
        "    # Create a Span for each match and assign the label \"ANIMAL\"\n",
        "    spans = [Span(doc, start, end, label=\"ANIMAL\") for match_id, start, end in matches]\n",
        "    # Overwrite the doc.ents with the matched spans\n",
        "    doc.ents = spans\n",
        "    return doc\n",
        "\n",
        "\n",
        "# Add the component to the pipeline after the \"ner\" component\n",
        "nlp.add_pipe(animal_component, after=\"ner\")\n",
        "print(nlp.pipe_names)\n",
        "\n",
        "# Process the text and print the text and label for the doc.ents\n",
        "doc = nlp(\"I have a cat and a Golden Retriever\")\n",
        "print([(ent.text, ent.label_) for ent in doc.ents])"
      ],
      "execution_count": null,
      "outputs": []
    },
    {
      "cell_type": "markdown",
      "metadata": {
        "id": "5ojxma-bLuMY",
        "colab_type": "text"
      },
      "source": [
        "### Extension attributes\n",
        "\n",
        "Custom attributes let you add any metadata to docs, tokens and spans. The data can be added once, or it can be computed dynamically.\n",
        "\n",
        "Custom attributes are available via the `._` (dot underscore) property. This *makes it clear* that they were added by the user, and not built into spaCy, like token.text\n",
        "\n",
        "Attributes need to be registered on the global `Doc`, `Token` and `Span` classes you can import from spacy.tokens. You've already worked with those in the previous chapters. To register a custom attribute on the `Doc`, `Token` and `Span`, you can use the `set_extension` method.\n",
        "\n",
        "There are three types of extensions: \n",
        "* attribute extensions\n",
        "* property extensions \n",
        "* and method extensions."
      ]
    },
    {
      "cell_type": "code",
      "metadata": {
        "id": "VdXsBDPCMdQ4",
        "colab_type": "code",
        "colab": {}
      },
      "source": [
        "# Import global classes\n",
        "from spacy.tokens import Doc, Token, Span\n",
        "\n",
        "# Set extensions on the Doc, Token and Span\n",
        "Doc.set_extension(\"title\", default=None)\n",
        "Token.set_extension(\"is_color\", default=False)\n",
        "Span.set_extension(\"has_color\", default=False)"
      ],
      "execution_count": null,
      "outputs": []
    },
    {
      "cell_type": "code",
      "metadata": {
        "id": "WTnZ13nwMRZg",
        "colab_type": "code",
        "colab": {}
      },
      "source": [
        "# add custom metadata to documents, tokens and spans\n",
        "\n",
        "doc._.title = \"My document\"\n",
        "\n",
        "token = doc[1]\n",
        "token._.is_color = True\n",
        "\n",
        "span = doc[0:3]\n",
        "span._.has_color = False\n",
        "\n"
      ],
      "execution_count": null,
      "outputs": []
    },
    {
      "cell_type": "code",
      "metadata": {
        "id": "36gubL7HM_28",
        "colab_type": "code",
        "colab": {}
      },
      "source": [
        "# Attribute extensions\n",
        "# Set extension on the Token with default value\n",
        "Token.set_extension(\"is_color2\", default=False)\n",
        "\n",
        "doc = nlp(\"The sky is blue.\")\n",
        "\n",
        "# Overwrite extension attribute value\n",
        "doc[3]._.is_color2 = True\n",
        "print(doc[3]._.is_color2, \"-\", doc[3].text)"
      ],
      "execution_count": null,
      "outputs": []
    },
    {
      "cell_type": "code",
      "metadata": {
        "id": "a7u7C1s0NRMU",
        "colab_type": "code",
        "colab": {}
      },
      "source": [
        "# Property extensions\n",
        "# Define getter function\n",
        "def get_is_color(token):\n",
        "    colors = [\"red\", \"yellow\", \"blue\"]\n",
        "    return token.text in colors\n",
        "\n",
        "# Set extension on the Token with getter\n",
        "Token.set_extension(\"is_color3\", getter=get_is_color)\n",
        "\n",
        "doc = nlp(\"The sky is blue.\")\n",
        "print(doc[3]._.is_color3, \"-\", doc[3].text)"
      ],
      "execution_count": null,
      "outputs": []
    },
    {
      "cell_type": "code",
      "metadata": {
        "id": "X_OiAmnWNpwM",
        "colab_type": "code",
        "colab": {}
      },
      "source": [
        "# Property extensions on Span\n",
        "\n",
        "from spacy.tokens import Span\n",
        "\n",
        "# Define getter function\n",
        "def get_has_color4(span):\n",
        "    colors = [\"red\", \"yellow\", \"blue\"]\n",
        "    return any(token.text in colors for token in span)\n",
        "\n",
        "# Set extension on the Span with getter\n",
        "Span.set_extension(\"has_color4\", getter=get_has_color4)\n",
        "\n",
        "doc = nlp(\"The sky is blue.\")\n",
        "print(doc[1:4]._.has_color4, \"-\", doc[1:4].text)\n",
        "print(doc[0:2]._.has_color4, \"-\", doc[0:2].text)"
      ],
      "execution_count": null,
      "outputs": []
    },
    {
      "cell_type": "code",
      "metadata": {
        "id": "ioJC5BgYN8Ts",
        "colab_type": "code",
        "colab": {}
      },
      "source": [
        "# Method extensions\n",
        "\n",
        "from spacy.tokens import Doc\n",
        "\n",
        "# Define method with arguments\n",
        "def has_token5(doc, token_text):\n",
        "    in_doc = token_text in [token.text for token in doc]\n",
        "    return in_doc\n",
        "\n",
        "# Set extension on the Doc with method\n",
        "Doc.set_extension(\"has_token5\", method=has_token5)\n",
        "\n",
        "doc = nlp(\"The sky is blue.\")\n",
        "print(doc._.has_token5(\"blue\"), \"- blue\")\n",
        "print(doc._.has_token5(\"cloud\"), \"- cloud\")"
      ],
      "execution_count": null,
      "outputs": []
    },
    {
      "cell_type": "code",
      "metadata": {
        "id": "1PZGCF6Kafbs",
        "colab_type": "code",
        "colab": {}
      },
      "source": [
        "# combine custom extension attributes with the model’s predictions and create\n",
        "# an attribute getter that returns a Wikipedia search URL if the span is\n",
        "# a person, organization, or location.\n",
        "\n",
        "import spacy\n",
        "from spacy.tokens import Span\n",
        "\n",
        "nlp = spacy.load(\"en_core_web_sm\")\n",
        "\n",
        "\n",
        "def get_wikipedia_url(span):\n",
        "    # Get a Wikipedia URL if the span has one of the labels\n",
        "    if span.label_ in (\"PERSON\", \"ORG\", \"GPE\", \"LOCATION\"):\n",
        "        entity_text = span.text.replace(\" \", \"_\")\n",
        "        return \"https://en.wikipedia.org/w/index.php?search=\" + entity_text\n",
        "\n",
        "\n",
        "# Set the Span extension wikipedia_url using get getter get_wikipedia_url\n",
        "Span.set_extension(\"wikipedia_url\", getter=get_wikipedia_url)\n",
        "\n",
        "doc = nlp(\n",
        "    \"In over fifty years from his very first recordings right through to his \"\n",
        "    \"last album, David Bowie was at the vanguard of contemporary culture.\"\n",
        ")\n",
        "for ent in doc.ents:\n",
        "    # Print the text and Wikipedia URL of the entity\n",
        "    print(ent.text, ent._.wikipedia_url)"
      ],
      "execution_count": null,
      "outputs": []
    }
  ]
}